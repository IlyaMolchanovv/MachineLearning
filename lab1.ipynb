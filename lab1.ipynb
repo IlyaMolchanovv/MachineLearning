{
  "nbformat": 4,
  "nbformat_minor": 0,
  "metadata": {
    "colab": {
      "provenance": [],
      "authorship_tag": "ABX9TyNKZivIRVPJXw8NRI28j1UZ",
      "include_colab_link": true
    },
    "kernelspec": {
      "name": "python3",
      "display_name": "Python 3"
    },
    "language_info": {
      "name": "python"
    }
  },
  "cells": [
    {
      "cell_type": "markdown",
      "metadata": {
        "id": "view-in-github",
        "colab_type": "text"
      },
      "source": [
        "<a href=\"https://colab.research.google.com/github/IlyaMolchanovv/MachineLearning/blob/main/lab1.ipynb\" target=\"_parent\"><img src=\"https://colab.research.google.com/assets/colab-badge.svg\" alt=\"Open In Colab\"/></a>"
      ]
    },
    {
      "cell_type": "code",
      "execution_count": 2,
      "metadata": {
        "id": "I1ylpmrfH4Ru"
      },
      "outputs": [],
      "source": [
        "import numpy as np"
      ]
    },
    {
      "cell_type": "code",
      "source": [
        "x = np.ones(10)\n",
        "print(x)"
      ],
      "metadata": {
        "colab": {
          "base_uri": "https://localhost:8080/"
        },
        "id": "7EWVFuGTID1O",
        "outputId": "83023ff5-52ce-45b7-ab19-273b5d61a8e4"
      },
      "execution_count": 5,
      "outputs": [
        {
          "output_type": "stream",
          "name": "stdout",
          "text": [
            "[1. 1. 1. 1. 1. 1. 1. 1. 1. 1.]\n"
          ]
        }
      ]
    },
    {
      "cell_type": "code",
      "source": [
        "x = np.arange(10,50)\n",
        "print(x)"
      ],
      "metadata": {
        "colab": {
          "base_uri": "https://localhost:8080/"
        },
        "id": "qSpXCr0OJakb",
        "outputId": "3e973d03-4d4b-434b-eff1-2bb7d199ac5d"
      },
      "execution_count": 8,
      "outputs": [
        {
          "output_type": "stream",
          "name": "stdout",
          "text": [
            "[10 11 12 13 14 15 16 17 18 19 20 21 22 23 24 25 26 27 28 29 30 31 32 33\n",
            " 34 35 36 37 38 39 40 41 42 43 44 45 46 47 48 49]\n"
          ]
        }
      ]
    },
    {
      "cell_type": "code",
      "source": [
        "x = np.random.randint(0,10,10)\n",
        "i_non = np.nonzero(x)\n",
        "print(x)\n",
        "print(i_non)"
      ],
      "metadata": {
        "colab": {
          "base_uri": "https://localhost:8080/"
        },
        "id": "lvCGEvfPJtS5",
        "outputId": "e02cc9a3-aa6b-4d88-f7f9-a41cdf9ceef2"
      },
      "execution_count": 9,
      "outputs": [
        {
          "output_type": "stream",
          "name": "stdout",
          "text": [
            "[8 7 3 5 2 6 6 3 9 7]\n",
            "(array([0, 1, 2, 3, 4, 5, 6, 7, 8, 9]),)\n"
          ]
        }
      ]
    },
    {
      "cell_type": "code",
      "source": [
        "mtrx = np.arange(9).reshape((3,3))\n",
        "print(mtrx)"
      ],
      "metadata": {
        "colab": {
          "base_uri": "https://localhost:8080/"
        },
        "id": "wcysytq_KQEz",
        "outputId": "2c43dbcd-9b74-4fcc-a0c2-760b327d41a6"
      },
      "execution_count": 10,
      "outputs": [
        {
          "output_type": "stream",
          "name": "stdout",
          "text": [
            "[[0 1 2]\n",
            " [3 4 5]\n",
            " [6 7 8]]\n"
          ]
        }
      ]
    },
    {
      "cell_type": "code",
      "source": [
        "b_pat = np.array([[0,1],[1,0]])\n",
        "mtrx = np.tile(b_pat, (4,4))\n",
        "print(mtrx)"
      ],
      "metadata": {
        "colab": {
          "base_uri": "https://localhost:8080/"
        },
        "id": "5woFypIOKbKB",
        "outputId": "ecbcc124-de9c-4a86-84b4-dd0994083347"
      },
      "execution_count": 12,
      "outputs": [
        {
          "output_type": "stream",
          "name": "stdout",
          "text": [
            "[[0 1 0 1 0 1 0 1]\n",
            " [1 0 1 0 1 0 1 0]\n",
            " [0 1 0 1 0 1 0 1]\n",
            " [1 0 1 0 1 0 1 0]\n",
            " [0 1 0 1 0 1 0 1]\n",
            " [1 0 1 0 1 0 1 0]\n",
            " [0 1 0 1 0 1 0 1]\n",
            " [1 0 1 0 1 0 1 0]]\n"
          ]
        }
      ]
    },
    {
      "cell_type": "code",
      "source": [
        "vect = np.random.rand(10)\n",
        "print(f\"{vect}\\n\")\n",
        "min_val = np.min(vect)\n",
        "min_ind = np.argmin(vect)\n",
        "vect[min_ind] = 0\n",
        "print(vect)"
      ],
      "metadata": {
        "colab": {
          "base_uri": "https://localhost:8080/"
        },
        "id": "Pla7eeE5KwJP",
        "outputId": "411af0ce-c89e-4a70-a6c5-86b5110d36a7"
      },
      "execution_count": 13,
      "outputs": [
        {
          "output_type": "stream",
          "name": "stdout",
          "text": [
            "[0.19533789 0.75414981 0.93941021 0.6037796  0.91692111 0.81099929\n",
            " 0.28098962 0.3831111  0.24048982 0.76018855]\n",
            "\n",
            "[0.         0.75414981 0.93941021 0.6037796  0.91692111 0.81099929\n",
            " 0.28098962 0.3831111  0.24048982 0.76018855]\n"
          ]
        }
      ]
    },
    {
      "cell_type": "code",
      "source": [
        "vect = np.random.randint(0, 10, 100)\n",
        "most_com_value = np.bincount(vect).argmax()\n",
        "print(f\"{vect}\\n\\n{most_com_value}\")"
      ],
      "metadata": {
        "colab": {
          "base_uri": "https://localhost:8080/"
        },
        "id": "ssQQrdDxLXpR",
        "outputId": "39f5e434-4d8f-4189-97be-374081e23443"
      },
      "execution_count": 15,
      "outputs": [
        {
          "output_type": "stream",
          "name": "stdout",
          "text": [
            "[6 6 8 7 3 4 5 6 5 8 1 5 8 0 4 3 5 1 6 0 6 4 9 5 6 1 7 0 4 4 0 5 2 0 5 0 8\n",
            " 8 4 2 3 7 0 3 6 8 9 2 0 6 5 8 7 0 2 2 3 0 2 7 2 3 9 5 4 3 8 0 3 9 9 8 0 3\n",
            " 7 9 2 4 8 8 5 7 4 3 5 5 5 8 9 5 2 6 6 7 3 3 3 8 6 1]\n",
            "\n",
            "5\n"
          ]
        }
      ]
    },
    {
      "cell_type": "code",
      "source": [
        "mtrx = np.random.rand(3,3)\n",
        "row_means = np.mean(mtrx, axis=1)\n",
        "res = mtrx - row_means[:, np.newaxis]\n",
        "print(f\"{mtrx}\\n\\n{res}\")"
      ],
      "metadata": {
        "colab": {
          "base_uri": "https://localhost:8080/"
        },
        "id": "6KQ7fTrHLy3E",
        "outputId": "feeb03f1-3b5f-4d99-8c9d-bc722fb07119"
      },
      "execution_count": 16,
      "outputs": [
        {
          "output_type": "stream",
          "name": "stdout",
          "text": [
            "[[0.38525912 0.96510532 0.65534813]\n",
            " [0.90067911 0.62973306 0.17436132]\n",
            " [0.15375066 0.23910445 0.99540195]]\n",
            "\n",
            "[[-0.28331174  0.29653446 -0.01322272]\n",
            " [ 0.33242128  0.06147523 -0.39389651]\n",
            " [-0.30900169 -0.22364791  0.5326496 ]]\n"
          ]
        }
      ]
    },
    {
      "cell_type": "code",
      "source": [
        "mtrx = np.random.rand(3,3)\n",
        "print(f\"исходная:\\n{mtrx}\")\n",
        "mtrx[[0,1]] = mtrx[[1,0]]\n",
        "print(f\"после замены:\\n{mtrx}\")"
      ],
      "metadata": {
        "colab": {
          "base_uri": "https://localhost:8080/"
        },
        "id": "xsUKLxBtMOHE",
        "outputId": "18379eb3-accb-4c77-9758-ad8527094ec5"
      },
      "execution_count": 17,
      "outputs": [
        {
          "output_type": "stream",
          "name": "stdout",
          "text": [
            "исходная:\n",
            "[[0.13826518 0.18122257 0.1208711 ]\n",
            " [0.76165116 0.23164168 0.73585308]\n",
            " [0.53406227 0.64195642 0.02132075]]\n",
            "после замены:\n",
            "[[0.76165116 0.23164168 0.73585308]\n",
            " [0.13826518 0.18122257 0.1208711 ]\n",
            " [0.53406227 0.64195642 0.02132075]]\n"
          ]
        }
      ]
    },
    {
      "cell_type": "code",
      "source": [
        "vect = np.random.randint(0,100,10)\n",
        "n = 3\n",
        "largest_val = np.partition(vect, -n)[-n:]\n",
        "print(f\"{vect}\\n{largest_val}\")"
      ],
      "metadata": {
        "colab": {
          "base_uri": "https://localhost:8080/"
        },
        "id": "gpRvsoAaMpvf",
        "outputId": "1a4a2ffb-6add-45a3-d84b-5dc5ea02cd50"
      },
      "execution_count": 19,
      "outputs": [
        {
          "output_type": "stream",
          "name": "stdout",
          "text": [
            "[78 17 38 87  2 85 23 87 64 43]\n",
            "[85 87 87]\n"
          ]
        }
      ]
    },
    {
      "cell_type": "code",
      "source": [
        "mtrx = np.tile(np.arange(1,6),(5,1))\n",
        "print(mtrx)"
      ],
      "metadata": {
        "colab": {
          "base_uri": "https://localhost:8080/"
        },
        "id": "iQ324aGsNCjb",
        "outputId": "7f8eaae6-6ab8-4b72-92af-bbed45bca3e2"
      },
      "execution_count": 20,
      "outputs": [
        {
          "output_type": "stream",
          "name": "stdout",
          "text": [
            "[[1 2 3 4 5]\n",
            " [1 2 3 4 5]\n",
            " [1 2 3 4 5]\n",
            " [1 2 3 4 5]\n",
            " [1 2 3 4 5]]\n"
          ]
        }
      ]
    },
    {
      "cell_type": "code",
      "source": [
        "mtrx1 = np.random.randint(0,10,(4,4))\n",
        "mtrx2 = np.random.randint(0,10,(4,4))\n",
        "prod = mtrx1@mtrx2\n",
        "diag_elem = np.diagonal(prod)\n",
        "print(f\"{mtrx1}\\n\\n{mtrx2}\\n\\n{prod}\\n\\n{diag_elem}\")"
      ],
      "metadata": {
        "colab": {
          "base_uri": "https://localhost:8080/"
        },
        "id": "DnuC_NtjNMvF",
        "outputId": "44c25414-cfa9-4dbb-cc91-1fdbc49e7d2d"
      },
      "execution_count": 23,
      "outputs": [
        {
          "output_type": "stream",
          "name": "stdout",
          "text": [
            "[[6 9 9 5]\n",
            " [6 0 0 2]\n",
            " [5 7 3 2]\n",
            " [1 2 5 3]]\n",
            "\n",
            "[[0 1 2 0]\n",
            " [7 9 6 9]\n",
            " [6 3 4 5]\n",
            " [5 3 4 1]]\n",
            "\n",
            "[[142 129 122 131]\n",
            " [ 10  12  20   2]\n",
            " [ 77  83  72  80]\n",
            " [ 59  43  46  46]]\n",
            "\n",
            "[142  12  72  46]\n"
          ]
        }
      ]
    },
    {
      "cell_type": "code",
      "source": [
        "vect = np.arange(20)\n",
        "split_vect = np.split(vect, 4)\n",
        "mean_vals = [np.mean(part) for part in split_vect]\n",
        "print(f\"{vect}\\n\\n{mean_vals}\")"
      ],
      "metadata": {
        "colab": {
          "base_uri": "https://localhost:8080/"
        },
        "id": "nCQbRJHINveW",
        "outputId": "7a49fcd5-85d7-4cdc-8fcb-e3407be9a2c0"
      },
      "execution_count": 24,
      "outputs": [
        {
          "output_type": "stream",
          "name": "stdout",
          "text": [
            "[ 0  1  2  3  4  5  6  7  8  9 10 11 12 13 14 15 16 17 18 19]\n",
            "\n",
            "[2.0, 7.0, 12.0, 17.0]\n"
          ]
        }
      ]
    },
    {
      "cell_type": "code",
      "source": [
        "mtrx = np.random.randint(0,10,(3,3))\n",
        "print(f\"исходная:\\n{mtrx}\")\n",
        "max_vals = np.max(mtrx, axis=0)\n",
        "max_indx = np.argmax(mtrx, axis=0)\n",
        "mtrx[max_indx, np.arange(mtrx.shape[1])] = 0\n",
        "print(f\"после замены:\\n{mtrx}\")"
      ],
      "metadata": {
        "colab": {
          "base_uri": "https://localhost:8080/"
        },
        "id": "K4hJ5AAsOOy2",
        "outputId": "bb44083d-d1cb-4f74-d90e-d6ebf2655284"
      },
      "execution_count": 36,
      "outputs": [
        {
          "output_type": "stream",
          "name": "stdout",
          "text": [
            "исходная:\n",
            "[[0 7 4]\n",
            " [5 1 4]\n",
            " [2 6 6]]\n",
            "после замены:\n",
            "[[0 0 4]\n",
            " [0 1 4]\n",
            " [2 6 0]]\n"
          ]
        }
      ]
    },
    {
      "cell_type": "code",
      "source": [
        "mtrx = np.random.randint(0,10,(5,5))\n",
        "row_sums = np.sum(mtrx, axis=1)\n",
        "print(row_sums)\n",
        "max_sum_ind = np.argmax(row_sums)\n",
        "print(mtrx)\n",
        "print(max_sum_ind)"
      ],
      "metadata": {
        "colab": {
          "base_uri": "https://localhost:8080/"
        },
        "id": "W9RVh45ZOn05",
        "outputId": "55e0f040-66bc-4e45-8154-4ee550ff7aac"
      },
      "execution_count": 27,
      "outputs": [
        {
          "output_type": "stream",
          "name": "stdout",
          "text": [
            "[26 30 19 27 24]\n",
            "[[5 4 5 4 8]\n",
            " [7 0 9 5 9]\n",
            " [4 0 3 8 4]\n",
            " [0 7 5 7 8]\n",
            " [8 8 5 1 2]]\n",
            "1\n"
          ]
        }
      ]
    },
    {
      "cell_type": "code",
      "source": [],
      "metadata": {
        "id": "nXiN03pAPe4Y"
      },
      "execution_count": null,
      "outputs": []
    }
  ]
}