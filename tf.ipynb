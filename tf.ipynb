{
  "nbformat": 4,
  "nbformat_minor": 0,
  "metadata": {
    "colab": {
      "provenance": [],
      "include_colab_link": true
    },
    "kernelspec": {
      "name": "python3",
      "display_name": "Python 3"
    },
    "language_info": {
      "name": "python"
    }
  },
  "cells": [
    {
      "cell_type": "markdown",
      "metadata": {
        "id": "view-in-github",
        "colab_type": "text"
      },
      "source": [
        "<a href=\"https://colab.research.google.com/github/IlyaMolchanovv/MachineLearning/blob/main/tf.ipynb\" target=\"_parent\"><img src=\"https://colab.research.google.com/assets/colab-badge.svg\" alt=\"Open In Colab\"/></a>"
      ]
    },
    {
      "cell_type": "code",
      "execution_count": null,
      "metadata": {
        "colab": {
          "base_uri": "https://localhost:8080/"
        },
        "id": "eJsuhJ9Oiv07",
        "outputId": "e3912ccb-95b4-45fe-cfb8-222e9db4cf48"
      },
      "outputs": [
        {
          "output_type": "stream",
          "name": "stdout",
          "text": [
            "Downloading data from https://www.cs.toronto.edu/~kriz/cifar-10-python.tar.gz\n",
            "170498071/170498071 [==============================] - 6s 0us/step\n",
            "Epoch 1/10\n",
            "1250/1250 [==============================] - 58s 45ms/step - loss: 1.8905 - accuracy: 0.3613 - val_loss: 1.5558 - val_accuracy: 0.4405\n",
            "Epoch 2/10\n",
            "1250/1250 [==============================] - 56s 45ms/step - loss: 1.3994 - accuracy: 0.4933 - val_loss: 1.3802 - val_accuracy: 0.5122\n",
            "Epoch 3/10\n",
            "1250/1250 [==============================] - 53s 42ms/step - loss: 1.2395 - accuracy: 0.5592 - val_loss: 1.2127 - val_accuracy: 0.5729\n",
            "Epoch 4/10\n",
            "1250/1250 [==============================] - 53s 42ms/step - loss: 1.1174 - accuracy: 0.6047 - val_loss: 1.1645 - val_accuracy: 0.5981\n",
            "Epoch 5/10\n",
            "1250/1250 [==============================] - 52s 42ms/step - loss: 1.0349 - accuracy: 0.6383 - val_loss: 1.1100 - val_accuracy: 0.6169\n",
            "Epoch 6/10\n",
            "1250/1250 [==============================] - 53s 42ms/step - loss: 0.9666 - accuracy: 0.6620 - val_loss: 1.1191 - val_accuracy: 0.6185\n",
            "Epoch 7/10\n",
            "1250/1250 [==============================] - 52s 42ms/step - loss: 0.8878 - accuracy: 0.6883 - val_loss: 1.0933 - val_accuracy: 0.6343\n",
            "Epoch 8/10\n",
            "1250/1250 [==============================] - 53s 42ms/step - loss: 0.8384 - accuracy: 0.7074 - val_loss: 1.0717 - val_accuracy: 0.6417\n",
            "Epoch 9/10\n",
            "1250/1250 [==============================] - 52s 42ms/step - loss: 0.7929 - accuracy: 0.7250 - val_loss: 1.0690 - val_accuracy: 0.6508\n",
            "Epoch 10/10\n",
            "1250/1250 [==============================] - 52s 42ms/step - loss: 0.7365 - accuracy: 0.7457 - val_loss: 1.0698 - val_accuracy: 0.6564\n",
            "313/313 - 4s - loss: 1.0744 - accuracy: 0.6514 - 4s/epoch - 14ms/step\n",
            "Точность модели на тестовом наборе данных: 0.6514000296592712\n"
          ]
        }
      ],
      "source": [
        "import tensorflow as tf\n",
        "from tensorflow import keras\n",
        "from sklearn.model_selection import train_test_split\n",
        "\n",
        "cifar10 = keras.datasets.cifar10\n",
        "(train_images, train_labels), (test_images, test_labels) = cifar10.load_data()\n",
        "\n",
        "model = keras.Sequential([\n",
        "    keras.layers.Conv2D(32, (3, 3), activation='relu', input_shape=(32, 32, 3)),\n",
        "    keras.layers.MaxPooling2D((2, 2)),\n",
        "    keras.layers.Conv2D(64, (3, 3), activation='relu'),\n",
        "    keras.layers.MaxPooling2D((2, 2)),\n",
        "    keras.layers.Conv2D(64, (3, 3), activation='relu'),\n",
        "    keras.layers.Flatten(),\n",
        "    keras.layers.Dense(64, activation='relu'),\n",
        "    keras.layers.Dense(10)\n",
        "])\n",
        "\n",
        "\n",
        "train_images, val_images, train_labels, val_labels = train_test_split(train_images, train_labels, test_size=0.2)\n",
        "\n",
        "model.compile(optimizer='adam',\n",
        "              loss=tf.keras.losses.SparseCategoricalCrossentropy(from_logits=True),\n",
        "              metrics=['accuracy'])\n",
        "\n",
        "model.fit(train_images, train_labels, epochs=10, validation_data=(val_images, val_labels))\n",
        "\n",
        "test_loss, test_acc = model.evaluate(test_images, test_labels, verbose=2)\n",
        "print('Точность модели на тестовом наборе данных:', test_acc)\n"
      ]
    },
    {
      "cell_type": "code",
      "source": [],
      "metadata": {
        "id": "7R0OFz3kixB-"
      },
      "execution_count": null,
      "outputs": []
    }
  ]
}